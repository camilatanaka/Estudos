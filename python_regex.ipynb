{
  "nbformat": 4,
  "nbformat_minor": 0,
  "metadata": {
    "colab": {
      "provenance": []
    },
    "kernelspec": {
      "name": "python3",
      "display_name": "Python 3"
    },
    "language_info": {
      "name": "python"
    }
  },
  "cells": [
    {
      "cell_type": "code",
      "execution_count": 1,
      "metadata": {
        "id": "WPQM0x2Ghrci"
      },
      "outputs": [],
      "source": [
        "import re"
      ]
    },
    {
      "cell_type": "code",
      "source": [
        "texto = \"Meus números são 123-456-7890 e 987-654-3210.\"\n",
        "padrao = r'\\d{3}-\\d{3}-\\d{4}'  # Padrão para um número de telefone no formato xxx-xxx-xxxx\n",
        "resultados = re.findall(padrao, texto)\n"
      ],
      "metadata": {
        "id": "lw5jkAFlhse_"
      },
      "execution_count": 2,
      "outputs": []
    },
    {
      "cell_type": "code",
      "source": [
        "resultados"
      ],
      "metadata": {
        "colab": {
          "base_uri": "https://localhost:8080/"
        },
        "id": "RhM56lu2ht4e",
        "outputId": "1c6fd7d7-d6f4-44a8-e787-d68a3c2d87c0"
      },
      "execution_count": 3,
      "outputs": [
        {
          "output_type": "execute_result",
          "data": {
            "text/plain": [
              "['123-456-7890', '987-654-3210']"
            ]
          },
          "metadata": {},
          "execution_count": 3
        }
      ]
    },
    {
      "cell_type": "code",
      "source": [],
      "metadata": {
        "id": "mzN_LIJ6hwJv"
      },
      "execution_count": null,
      "outputs": []
    }
  ]
}